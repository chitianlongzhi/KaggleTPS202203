{
 "cells": [
  {
   "cell_type": "code",
   "execution_count": 1,
   "id": "206ab189",
   "metadata": {
    "_cell_guid": "b1076dfc-b9ad-4769-8c92-a6c4dae69d19",
    "_uuid": "8f2839f25d086af736a60e9eeb907d3b93b6e0e5",
    "execution": {
     "iopub.execute_input": "2022-03-13T07:49:43.113863Z",
     "iopub.status.busy": "2022-03-13T07:49:43.112930Z",
     "iopub.status.idle": "2022-03-13T07:49:43.119504Z",
     "shell.execute_reply": "2022-03-13T07:49:43.120135Z",
     "shell.execute_reply.started": "2022-03-13T07:45:40.181649Z"
    },
    "papermill": {
     "duration": 0.033609,
     "end_time": "2022-03-13T07:49:43.120519",
     "exception": false,
     "start_time": "2022-03-13T07:49:43.086910",
     "status": "completed"
    },
    "tags": []
   },
   "outputs": [
    {
     "name": "stdout",
     "output_type": "stream",
     "text": [
      "/kaggle/input/tabular-playground-series-mar-2022/sample_submission.csv\n",
      "/kaggle/input/tabular-playground-series-mar-2022/train.csv\n",
      "/kaggle/input/tabular-playground-series-mar-2022/test.csv\n"
     ]
    }
   ],
   "source": [
    "# This Python 3 environment comes with many helpful analytics libraries installed\n",
    "# It is defined by the kaggle/python Docker image: https://github.com/kaggle/docker-python\n",
    "# For example, here's several helpful packages to load\n",
    "\n",
    "import numpy as np # linear algebra\n",
    "import pandas as pd # data processing, CSV file I/O (e.g. pd.read_csv)\n",
    "\n",
    "# Input data files are available in the read-only \"../input/\" directory\n",
    "# For example, running this (by clicking run or pressing Shift+Enter) will list all files under the input directory\n",
    "\n",
    "import os\n",
    "for dirname, _, filenames in os.walk('/kaggle/input'):\n",
    "    for filename in filenames:\n",
    "        print(os.path.join(dirname, filename))\n",
    "\n",
    "# You can write up to 20GB to the current directory (/kaggle/working/) that gets preserved as output when you create a version using \"Save & Run All\" \n",
    "# You can also write temporary files to /kaggle/temp/, but they won't be saved outside of the current session"
   ]
  },
  {
   "cell_type": "code",
   "execution_count": 2,
   "id": "065ca2b7",
   "metadata": {
    "execution": {
     "iopub.execute_input": "2022-03-13T07:49:43.153311Z",
     "iopub.status.busy": "2022-03-13T07:49:43.152607Z",
     "iopub.status.idle": "2022-03-13T07:49:44.641314Z",
     "shell.execute_reply": "2022-03-13T07:49:44.642931Z",
     "shell.execute_reply.started": "2022-03-13T07:45:40.192992Z"
    },
    "papermill": {
     "duration": 1.507394,
     "end_time": "2022-03-13T07:49:44.643161",
     "exception": false,
     "start_time": "2022-03-13T07:49:43.135767",
     "status": "completed"
    },
    "tags": []
   },
   "outputs": [
    {
     "data": {
      "text/html": [
       "<style type='text/css'>\n",
       ".datatable table.frame { margin-bottom: 0; }\n",
       ".datatable table.frame thead { border-bottom: none; }\n",
       ".datatable table.frame tr.coltypes td {  color: #FFFFFF;  line-height: 6px;  padding: 0 0.5em;}\n",
       ".datatable .bool    { background: #DDDD99; }\n",
       ".datatable .object  { background: #565656; }\n",
       ".datatable .int     { background: #5D9E5D; }\n",
       ".datatable .float   { background: #4040CC; }\n",
       ".datatable .str     { background: #CC4040; }\n",
       ".datatable .time    { background: #40CC40; }\n",
       ".datatable .row_index {  background: var(--jp-border-color3);  border-right: 1px solid var(--jp-border-color0);  color: var(--jp-ui-font-color3);  font-size: 9px;}\n",
       ".datatable .frame tbody td { text-align: left; }\n",
       ".datatable .frame tr.coltypes .row_index {  background: var(--jp-border-color0);}\n",
       ".datatable th:nth-child(2) { padding-left: 12px; }\n",
       ".datatable .hellipsis {  color: var(--jp-cell-editor-border-color);}\n",
       ".datatable .vellipsis {  background: var(--jp-layout-color0);  color: var(--jp-cell-editor-border-color);}\n",
       ".datatable .na {  color: var(--jp-cell-editor-border-color);  font-size: 80%;}\n",
       ".datatable .sp {  opacity: 0.25;}\n",
       ".datatable .footer { font-size: 9px; }\n",
       ".datatable .frame_dimensions {  background: var(--jp-border-color3);  border-top: 1px solid var(--jp-border-color0);  color: var(--jp-ui-font-color3);  display: inline-block;  opacity: 0.6;  padding: 1px 10px 1px 5px;}\n",
       "</style>\n"
      ],
      "text/plain": [
       "<IPython.core.display.HTML object>"
      ]
     },
     "metadata": {},
     "output_type": "display_data"
    },
    {
     "name": "stdout",
     "output_type": "stream",
     "text": [
      "(848835, 6)\n",
      "(2340, 5)\n",
      "CPU times: user 791 ms, sys: 366 ms, total: 1.16 s\n",
      "Wall time: 1.48 s\n"
     ]
    }
   ],
   "source": [
    "%%time\n",
    "import datatable as dt\n",
    "train = dt.fread(\"/kaggle/input/tabular-playground-series-mar-2022/train.csv\").to_pandas()\n",
    "test = dt.fread(\"/kaggle/input/tabular-playground-series-mar-2022/test.csv\").to_pandas()\n",
    "print(train.shape)\n",
    "print(test.shape)"
   ]
  },
  {
   "cell_type": "code",
   "execution_count": 3,
   "id": "4fc79257",
   "metadata": {
    "execution": {
     "iopub.execute_input": "2022-03-13T07:49:44.680261Z",
     "iopub.status.busy": "2022-03-13T07:49:44.679367Z",
     "iopub.status.idle": "2022-03-13T07:49:44.692259Z",
     "shell.execute_reply": "2022-03-13T07:49:44.692822Z",
     "shell.execute_reply.started": "2022-03-13T07:45:40.426537Z"
    },
    "papermill": {
     "duration": 0.034835,
     "end_time": "2022-03-13T07:49:44.693000",
     "exception": false,
     "start_time": "2022-03-13T07:49:44.658165",
     "status": "completed"
    },
    "tags": []
   },
   "outputs": [
    {
     "data": {
      "text/html": [
       "<div>\n",
       "<style scoped>\n",
       "    .dataframe tbody tr th:only-of-type {\n",
       "        vertical-align: middle;\n",
       "    }\n",
       "\n",
       "    .dataframe tbody tr th {\n",
       "        vertical-align: top;\n",
       "    }\n",
       "\n",
       "    .dataframe thead th {\n",
       "        text-align: right;\n",
       "    }\n",
       "</style>\n",
       "<table border=\"1\" class=\"dataframe\">\n",
       "  <thead>\n",
       "    <tr style=\"text-align: right;\">\n",
       "      <th></th>\n",
       "      <th>row_id</th>\n",
       "      <th>time</th>\n",
       "      <th>x</th>\n",
       "      <th>y</th>\n",
       "      <th>direction</th>\n",
       "      <th>congestion</th>\n",
       "    </tr>\n",
       "  </thead>\n",
       "  <tbody>\n",
       "    <tr>\n",
       "      <th>0</th>\n",
       "      <td>0</td>\n",
       "      <td>1991-04-01</td>\n",
       "      <td>0</td>\n",
       "      <td>0</td>\n",
       "      <td>EB</td>\n",
       "      <td>70</td>\n",
       "    </tr>\n",
       "    <tr>\n",
       "      <th>1</th>\n",
       "      <td>1</td>\n",
       "      <td>1991-04-01</td>\n",
       "      <td>0</td>\n",
       "      <td>0</td>\n",
       "      <td>NB</td>\n",
       "      <td>49</td>\n",
       "    </tr>\n",
       "    <tr>\n",
       "      <th>2</th>\n",
       "      <td>2</td>\n",
       "      <td>1991-04-01</td>\n",
       "      <td>0</td>\n",
       "      <td>0</td>\n",
       "      <td>SB</td>\n",
       "      <td>24</td>\n",
       "    </tr>\n",
       "    <tr>\n",
       "      <th>3</th>\n",
       "      <td>3</td>\n",
       "      <td>1991-04-01</td>\n",
       "      <td>0</td>\n",
       "      <td>1</td>\n",
       "      <td>EB</td>\n",
       "      <td>18</td>\n",
       "    </tr>\n",
       "    <tr>\n",
       "      <th>4</th>\n",
       "      <td>4</td>\n",
       "      <td>1991-04-01</td>\n",
       "      <td>0</td>\n",
       "      <td>1</td>\n",
       "      <td>NB</td>\n",
       "      <td>60</td>\n",
       "    </tr>\n",
       "  </tbody>\n",
       "</table>\n",
       "</div>"
      ],
      "text/plain": [
       "   row_id       time  x  y direction  congestion\n",
       "0       0 1991-04-01  0  0        EB          70\n",
       "1       1 1991-04-01  0  0        NB          49\n",
       "2       2 1991-04-01  0  0        SB          24\n",
       "3       3 1991-04-01  0  1        EB          18\n",
       "4       4 1991-04-01  0  1        NB          60"
      ]
     },
     "execution_count": 3,
     "metadata": {},
     "output_type": "execute_result"
    }
   ],
   "source": [
    "train.head()"
   ]
  },
  {
   "cell_type": "code",
   "execution_count": 4,
   "id": "06e49947",
   "metadata": {
    "execution": {
     "iopub.execute_input": "2022-03-13T07:49:44.725497Z",
     "iopub.status.busy": "2022-03-13T07:49:44.724793Z",
     "iopub.status.idle": "2022-03-13T07:49:44.838517Z",
     "shell.execute_reply": "2022-03-13T07:49:44.837903Z",
     "shell.execute_reply.started": "2022-03-13T07:45:40.440656Z"
    },
    "papermill": {
     "duration": 0.131067,
     "end_time": "2022-03-13T07:49:44.838666",
     "exception": false,
     "start_time": "2022-03-13T07:49:44.707599",
     "status": "completed"
    },
    "tags": []
   },
   "outputs": [
    {
     "data": {
      "text/html": [
       "<div>\n",
       "<style scoped>\n",
       "    .dataframe tbody tr th:only-of-type {\n",
       "        vertical-align: middle;\n",
       "    }\n",
       "\n",
       "    .dataframe tbody tr th {\n",
       "        vertical-align: top;\n",
       "    }\n",
       "\n",
       "    .dataframe thead th {\n",
       "        text-align: right;\n",
       "    }\n",
       "</style>\n",
       "<table border=\"1\" class=\"dataframe\">\n",
       "  <thead>\n",
       "    <tr style=\"text-align: right;\">\n",
       "      <th></th>\n",
       "      <th>row_id</th>\n",
       "      <th>x</th>\n",
       "      <th>y</th>\n",
       "      <th>congestion</th>\n",
       "    </tr>\n",
       "  </thead>\n",
       "  <tbody>\n",
       "    <tr>\n",
       "      <th>count</th>\n",
       "      <td>848835.00000</td>\n",
       "      <td>848835.000000</td>\n",
       "      <td>848835.000000</td>\n",
       "      <td>848835.000000</td>\n",
       "    </tr>\n",
       "    <tr>\n",
       "      <th>mean</th>\n",
       "      <td>424417.00000</td>\n",
       "      <td>1.138462</td>\n",
       "      <td>1.630769</td>\n",
       "      <td>47.815305</td>\n",
       "    </tr>\n",
       "    <tr>\n",
       "      <th>std</th>\n",
       "      <td>245037.70221</td>\n",
       "      <td>0.801478</td>\n",
       "      <td>1.089379</td>\n",
       "      <td>16.799392</td>\n",
       "    </tr>\n",
       "    <tr>\n",
       "      <th>min</th>\n",
       "      <td>0.00000</td>\n",
       "      <td>0.000000</td>\n",
       "      <td>0.000000</td>\n",
       "      <td>0.000000</td>\n",
       "    </tr>\n",
       "    <tr>\n",
       "      <th>25%</th>\n",
       "      <td>212208.50000</td>\n",
       "      <td>0.000000</td>\n",
       "      <td>1.000000</td>\n",
       "      <td>35.000000</td>\n",
       "    </tr>\n",
       "    <tr>\n",
       "      <th>50%</th>\n",
       "      <td>424417.00000</td>\n",
       "      <td>1.000000</td>\n",
       "      <td>2.000000</td>\n",
       "      <td>47.000000</td>\n",
       "    </tr>\n",
       "    <tr>\n",
       "      <th>75%</th>\n",
       "      <td>636625.50000</td>\n",
       "      <td>2.000000</td>\n",
       "      <td>3.000000</td>\n",
       "      <td>60.000000</td>\n",
       "    </tr>\n",
       "    <tr>\n",
       "      <th>max</th>\n",
       "      <td>848834.00000</td>\n",
       "      <td>2.000000</td>\n",
       "      <td>3.000000</td>\n",
       "      <td>100.000000</td>\n",
       "    </tr>\n",
       "  </tbody>\n",
       "</table>\n",
       "</div>"
      ],
      "text/plain": [
       "             row_id              x              y     congestion\n",
       "count  848835.00000  848835.000000  848835.000000  848835.000000\n",
       "mean   424417.00000       1.138462       1.630769      47.815305\n",
       "std    245037.70221       0.801478       1.089379      16.799392\n",
       "min         0.00000       0.000000       0.000000       0.000000\n",
       "25%    212208.50000       0.000000       1.000000      35.000000\n",
       "50%    424417.00000       1.000000       2.000000      47.000000\n",
       "75%    636625.50000       2.000000       3.000000      60.000000\n",
       "max    848834.00000       2.000000       3.000000     100.000000"
      ]
     },
     "execution_count": 4,
     "metadata": {},
     "output_type": "execute_result"
    }
   ],
   "source": [
    "train.describe()"
   ]
  },
  {
   "cell_type": "code",
   "execution_count": 5,
   "id": "c751bea4",
   "metadata": {
    "execution": {
     "iopub.execute_input": "2022-03-13T07:49:44.876037Z",
     "iopub.status.busy": "2022-03-13T07:49:44.875398Z",
     "iopub.status.idle": "2022-03-13T07:49:44.890832Z",
     "shell.execute_reply": "2022-03-13T07:49:44.890246Z",
     "shell.execute_reply.started": "2022-03-13T07:45:40.531795Z"
    },
    "papermill": {
     "duration": 0.037107,
     "end_time": "2022-03-13T07:49:44.890973",
     "exception": false,
     "start_time": "2022-03-13T07:49:44.853866",
     "status": "completed"
    },
    "tags": []
   },
   "outputs": [
    {
     "data": {
      "text/html": [
       "<div>\n",
       "<style scoped>\n",
       "    .dataframe tbody tr th:only-of-type {\n",
       "        vertical-align: middle;\n",
       "    }\n",
       "\n",
       "    .dataframe tbody tr th {\n",
       "        vertical-align: top;\n",
       "    }\n",
       "\n",
       "    .dataframe thead th {\n",
       "        text-align: right;\n",
       "    }\n",
       "</style>\n",
       "<table border=\"1\" class=\"dataframe\">\n",
       "  <thead>\n",
       "    <tr style=\"text-align: right;\">\n",
       "      <th></th>\n",
       "      <th>row_id</th>\n",
       "      <th>x</th>\n",
       "      <th>y</th>\n",
       "    </tr>\n",
       "  </thead>\n",
       "  <tbody>\n",
       "    <tr>\n",
       "      <th>count</th>\n",
       "      <td>2340.000000</td>\n",
       "      <td>2340.000000</td>\n",
       "      <td>2340.000000</td>\n",
       "    </tr>\n",
       "    <tr>\n",
       "      <th>mean</th>\n",
       "      <td>850004.500000</td>\n",
       "      <td>1.138462</td>\n",
       "      <td>1.630769</td>\n",
       "    </tr>\n",
       "    <tr>\n",
       "      <th>std</th>\n",
       "      <td>675.644137</td>\n",
       "      <td>0.801649</td>\n",
       "      <td>1.089611</td>\n",
       "    </tr>\n",
       "    <tr>\n",
       "      <th>min</th>\n",
       "      <td>848835.000000</td>\n",
       "      <td>0.000000</td>\n",
       "      <td>0.000000</td>\n",
       "    </tr>\n",
       "    <tr>\n",
       "      <th>25%</th>\n",
       "      <td>849419.750000</td>\n",
       "      <td>0.000000</td>\n",
       "      <td>1.000000</td>\n",
       "    </tr>\n",
       "    <tr>\n",
       "      <th>50%</th>\n",
       "      <td>850004.500000</td>\n",
       "      <td>1.000000</td>\n",
       "      <td>2.000000</td>\n",
       "    </tr>\n",
       "    <tr>\n",
       "      <th>75%</th>\n",
       "      <td>850589.250000</td>\n",
       "      <td>2.000000</td>\n",
       "      <td>3.000000</td>\n",
       "    </tr>\n",
       "    <tr>\n",
       "      <th>max</th>\n",
       "      <td>851174.000000</td>\n",
       "      <td>2.000000</td>\n",
       "      <td>3.000000</td>\n",
       "    </tr>\n",
       "  </tbody>\n",
       "</table>\n",
       "</div>"
      ],
      "text/plain": [
       "              row_id            x            y\n",
       "count    2340.000000  2340.000000  2340.000000\n",
       "mean   850004.500000     1.138462     1.630769\n",
       "std       675.644137     0.801649     1.089611\n",
       "min    848835.000000     0.000000     0.000000\n",
       "25%    849419.750000     0.000000     1.000000\n",
       "50%    850004.500000     1.000000     2.000000\n",
       "75%    850589.250000     2.000000     3.000000\n",
       "max    851174.000000     2.000000     3.000000"
      ]
     },
     "execution_count": 5,
     "metadata": {},
     "output_type": "execute_result"
    }
   ],
   "source": [
    "test.describe()"
   ]
  },
  {
   "cell_type": "code",
   "execution_count": 6,
   "id": "1aae085e",
   "metadata": {
    "execution": {
     "iopub.execute_input": "2022-03-13T07:49:44.932603Z",
     "iopub.status.busy": "2022-03-13T07:49:44.931886Z",
     "iopub.status.idle": "2022-03-13T07:49:46.346519Z",
     "shell.execute_reply": "2022-03-13T07:49:46.345550Z",
     "shell.execute_reply.started": "2022-03-13T07:45:40.553488Z"
    },
    "papermill": {
     "duration": 1.440093,
     "end_time": "2022-03-13T07:49:46.346720",
     "exception": false,
     "start_time": "2022-03-13T07:49:44.906627",
     "status": "completed"
    },
    "tags": []
   },
   "outputs": [
    {
     "name": "stdout",
     "output_type": "stream",
     "text": [
      "CPU times: user 1.37 s, sys: 40.9 ms, total: 1.41 s\n",
      "Wall time: 1.41 s\n"
     ]
    },
    {
     "name": "stderr",
     "output_type": "stream",
     "text": [
      "/opt/conda/lib/python3.7/site-packages/ipykernel_launcher.py:23: DeprecationWarning: `np.float` is a deprecated alias for the builtin `float`. To silence this warning, use `float` by itself. Doing this will not modify any behavior and is safe. If you specifically wanted the numpy scalar type, use `np.float64` here.\n",
      "Deprecated in NumPy 1.20; for more details and guidance: https://numpy.org/devdocs/release/1.20.0-notes.html#deprecations\n"
     ]
    }
   ],
   "source": [
    "%%time\n",
    "dir_mapper = {'EB': 0, \n",
    "              'NE': 1, \n",
    "              'NB': 2, \n",
    "              'NW': 3, \n",
    "              'WB': 4, \n",
    "              'SW': 5, \n",
    "              'SB': 6, \n",
    "              'SE': 7}\n",
    "def feature_engineering(data):\n",
    "    tt = pd.to_datetime(data['time'])\n",
    "    data['month'] = (tt.dt.month).astype(np.int8)\n",
    "    data['weekday'] = (tt.dt.weekday).astype(np.int8)\n",
    "    data['hour'] = (tt.dt.hour).astype(np.int8)\n",
    "    data['minute'] = (tt.dt.minute).astype(np.int8)\n",
    "    data['is_month_start'] = (tt.dt.is_month_start).astype(np.int8)\n",
    "    data['is_month_end'] = (tt.dt.is_month_end).astype(np.int8)\n",
    "    data['minute_in_a_day'] = (tt.dt.hour * 60 + tt.dt.minute).astype(np.int16)\n",
    "    data['is_weekend'] = (tt.dt.dayofweek > 4).astype(np.int8)\n",
    "    data['is_afternoon'] = (tt.dt.hour > 12).astype(np.int8)\n",
    "    data['direction'] = data['direction'].map(lambda x: dir_mapper[x]).astype(np.int8)\n",
    "    return data.drop(['time'], axis=1)\n",
    "train = feature_engineering(train)\n",
    "train['congestion'] = (train['congestion']/100).astype(np.float)"
   ]
  },
  {
   "cell_type": "code",
   "execution_count": 7,
   "id": "9e4733be",
   "metadata": {
    "execution": {
     "iopub.execute_input": "2022-03-13T07:49:46.388747Z",
     "iopub.status.busy": "2022-03-13T07:49:46.387646Z",
     "iopub.status.idle": "2022-03-13T07:49:46.400328Z",
     "shell.execute_reply": "2022-03-13T07:49:46.400834Z",
     "shell.execute_reply.started": "2022-03-13T07:45:41.894559Z"
    },
    "papermill": {
     "duration": 0.036852,
     "end_time": "2022-03-13T07:49:46.401001",
     "exception": false,
     "start_time": "2022-03-13T07:49:46.364149",
     "status": "completed"
    },
    "tags": []
   },
   "outputs": [
    {
     "data": {
      "text/html": [
       "<div>\n",
       "<style scoped>\n",
       "    .dataframe tbody tr th:only-of-type {\n",
       "        vertical-align: middle;\n",
       "    }\n",
       "\n",
       "    .dataframe tbody tr th {\n",
       "        vertical-align: top;\n",
       "    }\n",
       "\n",
       "    .dataframe thead th {\n",
       "        text-align: right;\n",
       "    }\n",
       "</style>\n",
       "<table border=\"1\" class=\"dataframe\">\n",
       "  <thead>\n",
       "    <tr style=\"text-align: right;\">\n",
       "      <th></th>\n",
       "      <th>row_id</th>\n",
       "      <th>x</th>\n",
       "      <th>y</th>\n",
       "      <th>direction</th>\n",
       "      <th>congestion</th>\n",
       "      <th>month</th>\n",
       "      <th>weekday</th>\n",
       "      <th>hour</th>\n",
       "      <th>minute</th>\n",
       "      <th>is_month_start</th>\n",
       "      <th>is_month_end</th>\n",
       "      <th>minute_in_a_day</th>\n",
       "      <th>is_weekend</th>\n",
       "      <th>is_afternoon</th>\n",
       "    </tr>\n",
       "  </thead>\n",
       "  <tbody>\n",
       "    <tr>\n",
       "      <th>848830</th>\n",
       "      <td>848830</td>\n",
       "      <td>2</td>\n",
       "      <td>3</td>\n",
       "      <td>2</td>\n",
       "      <td>0.54</td>\n",
       "      <td>9</td>\n",
       "      <td>0</td>\n",
       "      <td>11</td>\n",
       "      <td>40</td>\n",
       "      <td>0</td>\n",
       "      <td>1</td>\n",
       "      <td>700</td>\n",
       "      <td>0</td>\n",
       "      <td>0</td>\n",
       "    </tr>\n",
       "    <tr>\n",
       "      <th>848831</th>\n",
       "      <td>848831</td>\n",
       "      <td>2</td>\n",
       "      <td>3</td>\n",
       "      <td>1</td>\n",
       "      <td>0.28</td>\n",
       "      <td>9</td>\n",
       "      <td>0</td>\n",
       "      <td>11</td>\n",
       "      <td>40</td>\n",
       "      <td>0</td>\n",
       "      <td>1</td>\n",
       "      <td>700</td>\n",
       "      <td>0</td>\n",
       "      <td>0</td>\n",
       "    </tr>\n",
       "    <tr>\n",
       "      <th>848832</th>\n",
       "      <td>848832</td>\n",
       "      <td>2</td>\n",
       "      <td>3</td>\n",
       "      <td>6</td>\n",
       "      <td>0.68</td>\n",
       "      <td>9</td>\n",
       "      <td>0</td>\n",
       "      <td>11</td>\n",
       "      <td>40</td>\n",
       "      <td>0</td>\n",
       "      <td>1</td>\n",
       "      <td>700</td>\n",
       "      <td>0</td>\n",
       "      <td>0</td>\n",
       "    </tr>\n",
       "    <tr>\n",
       "      <th>848833</th>\n",
       "      <td>848833</td>\n",
       "      <td>2</td>\n",
       "      <td>3</td>\n",
       "      <td>5</td>\n",
       "      <td>0.17</td>\n",
       "      <td>9</td>\n",
       "      <td>0</td>\n",
       "      <td>11</td>\n",
       "      <td>40</td>\n",
       "      <td>0</td>\n",
       "      <td>1</td>\n",
       "      <td>700</td>\n",
       "      <td>0</td>\n",
       "      <td>0</td>\n",
       "    </tr>\n",
       "    <tr>\n",
       "      <th>848834</th>\n",
       "      <td>848834</td>\n",
       "      <td>2</td>\n",
       "      <td>3</td>\n",
       "      <td>4</td>\n",
       "      <td>0.24</td>\n",
       "      <td>9</td>\n",
       "      <td>0</td>\n",
       "      <td>11</td>\n",
       "      <td>40</td>\n",
       "      <td>0</td>\n",
       "      <td>1</td>\n",
       "      <td>700</td>\n",
       "      <td>0</td>\n",
       "      <td>0</td>\n",
       "    </tr>\n",
       "  </tbody>\n",
       "</table>\n",
       "</div>"
      ],
      "text/plain": [
       "        row_id  x  y  direction  congestion  month  weekday  hour  minute  \\\n",
       "848830  848830  2  3          2        0.54      9        0    11      40   \n",
       "848831  848831  2  3          1        0.28      9        0    11      40   \n",
       "848832  848832  2  3          6        0.68      9        0    11      40   \n",
       "848833  848833  2  3          5        0.17      9        0    11      40   \n",
       "848834  848834  2  3          4        0.24      9        0    11      40   \n",
       "\n",
       "        is_month_start  is_month_end  minute_in_a_day  is_weekend  \\\n",
       "848830               0             1              700           0   \n",
       "848831               0             1              700           0   \n",
       "848832               0             1              700           0   \n",
       "848833               0             1              700           0   \n",
       "848834               0             1              700           0   \n",
       "\n",
       "        is_afternoon  \n",
       "848830             0  \n",
       "848831             0  \n",
       "848832             0  \n",
       "848833             0  \n",
       "848834             0  "
      ]
     },
     "execution_count": 7,
     "metadata": {},
     "output_type": "execute_result"
    }
   ],
   "source": [
    "train.tail()"
   ]
  },
  {
   "cell_type": "code",
   "execution_count": 8,
   "id": "df2741a8",
   "metadata": {
    "execution": {
     "iopub.execute_input": "2022-03-13T07:49:46.440811Z",
     "iopub.status.busy": "2022-03-13T07:49:46.437947Z",
     "iopub.status.idle": "2022-03-13T07:49:47.661386Z",
     "shell.execute_reply": "2022-03-13T07:49:47.660696Z",
     "shell.execute_reply.started": "2022-03-13T07:45:41.907965Z"
    },
    "papermill": {
     "duration": 1.243775,
     "end_time": "2022-03-13T07:49:47.661540",
     "exception": false,
     "start_time": "2022-03-13T07:49:46.417765",
     "status": "completed"
    },
    "tags": []
   },
   "outputs": [
    {
     "name": "stdout",
     "output_type": "stream",
     "text": [
      "CPU times: user 692 ms, sys: 353 ms, total: 1.05 s\n",
      "Wall time: 1.22 s\n"
     ]
    }
   ],
   "source": [
    "%%time\n",
    "from sklearn.model_selection import train_test_split\n",
    "y = train['congestion']\n",
    "X = train.drop(['congestion', 'row_id'], axis=1)\n",
    "X_train, X_valid, y_train, y_valid = train_test_split(X, y, train_size=0.14, test_size=0.06, random_state=0)"
   ]
  },
  {
   "cell_type": "code",
   "execution_count": 9,
   "id": "9f4002e4",
   "metadata": {
    "execution": {
     "iopub.execute_input": "2022-03-13T07:49:47.700106Z",
     "iopub.status.busy": "2022-03-13T07:49:47.699118Z",
     "iopub.status.idle": "2022-03-13T07:49:54.333648Z",
     "shell.execute_reply": "2022-03-13T07:49:54.334170Z",
     "shell.execute_reply.started": "2022-03-13T07:45:41.988004Z"
    },
    "papermill": {
     "duration": 6.65552,
     "end_time": "2022-03-13T07:49:54.334342",
     "exception": false,
     "start_time": "2022-03-13T07:49:47.678822",
     "status": "completed"
    },
    "tags": []
   },
   "outputs": [
    {
     "name": "stdout",
     "output_type": "stream",
     "text": [
      "Model: \"sequential\"\n",
      "_________________________________________________________________\n",
      "Layer (type)                 Output Shape              Param #   \n",
      "=================================================================\n",
      "dense (Dense)                (None, 128)               1664      \n",
      "_________________________________________________________________\n",
      "dropout (Dropout)            (None, 128)               0         \n",
      "_________________________________________________________________\n",
      "batch_normalization (BatchNo (None, 128)               512       \n",
      "_________________________________________________________________\n",
      "dense_1 (Dense)              (None, 1)                 129       \n",
      "=================================================================\n",
      "Total params: 2,305\n",
      "Trainable params: 2,049\n",
      "Non-trainable params: 256\n",
      "_________________________________________________________________\n"
     ]
    },
    {
     "name": "stderr",
     "output_type": "stream",
     "text": [
      "2022-03-13 07:49:54.229507: I tensorflow/core/common_runtime/process_util.cc:146] Creating new thread pool with default inter op setting: 2. Tune using inter_op_parallelism_threads for best performance.\n"
     ]
    }
   ],
   "source": [
    "import warnings\n",
    "import tensorflow as tf\n",
    "import os\n",
    "os.environ[\"CUDA_VISIBLE_DEVICES\"]=\"0\"\n",
    "warnings.filterwarnings('ignore')\n",
    "model_tf = tf.keras.models.Sequential()\n",
    "model_tf.add(tf.keras.layers.Input(shape=(len(X_train.columns),)))\n",
    "model_tf.add(tf.keras.layers.Dense(units=128, activation='relu', use_bias=True)) #64, 128\n",
    "model_tf.add(tf.keras.layers.Dropout(0.25)) #0.1, 0.25\n",
    "model_tf.add(tf.keras.layers.BatchNormalization())\n",
    "model_tf.add(tf.keras.layers.Dense(units=1, activation='sigmoid', use_bias=True))\n",
    "model_tf.summary()"
   ]
  },
  {
   "cell_type": "code",
   "execution_count": 10,
   "id": "b4963c59",
   "metadata": {
    "execution": {
     "iopub.execute_input": "2022-03-13T07:49:54.374523Z",
     "iopub.status.busy": "2022-03-13T07:49:54.373492Z",
     "iopub.status.idle": "2022-03-13T07:50:36.453204Z",
     "shell.execute_reply": "2022-03-13T07:50:36.452381Z",
     "shell.execute_reply.started": "2022-03-13T07:45:42.033800Z"
    },
    "papermill": {
     "duration": 42.101131,
     "end_time": "2022-03-13T07:50:36.453414",
     "exception": false,
     "start_time": "2022-03-13T07:49:54.352283",
     "status": "completed"
    },
    "tags": []
   },
   "outputs": [
    {
     "name": "stderr",
     "output_type": "stream",
     "text": [
      "2022-03-13 07:49:54.486356: I tensorflow/compiler/mlir/mlir_graph_optimization_pass.cc:185] None of the MLIR Optimization Passes are enabled (registered 2)\n"
     ]
    },
    {
     "name": "stdout",
     "output_type": "stream",
     "text": [
      "Epoch 1/20\n",
      "233/233 [==============================] - 2s 6ms/step - loss: 0.0306 - accuracy: 9.0040e-04 - val_loss: 0.0280 - val_accuracy: 9.0318e-04\n",
      "Epoch 2/20\n",
      "233/233 [==============================] - 1s 5ms/step - loss: 0.0279 - accuracy: 9.4248e-04 - val_loss: 0.0276 - val_accuracy: 8.8355e-04\n",
      "Epoch 3/20\n",
      "233/233 [==============================] - 1s 5ms/step - loss: 0.0275 - accuracy: 9.0040e-04 - val_loss: 0.0270 - val_accuracy: 9.0318e-04\n",
      "Epoch 4/20\n",
      "233/233 [==============================] - 1s 5ms/step - loss: 0.0271 - accuracy: 8.9199e-04 - val_loss: 0.0271 - val_accuracy: 9.0318e-04\n",
      "Epoch 5/20\n",
      "233/233 [==============================] - 1s 5ms/step - loss: 0.0277 - accuracy: 9.7614e-04 - val_loss: 0.0272 - val_accuracy: 0.0010\n",
      "Epoch 6/20\n",
      "233/233 [==============================] - 2s 7ms/step - loss: 0.0274 - accuracy: 9.3406e-04 - val_loss: 0.0271 - val_accuracy: 0.0010\n",
      "Epoch 7/20\n",
      "233/233 [==============================] - 1s 6ms/step - loss: 0.0272 - accuracy: 8.4991e-04 - val_loss: 0.0267 - val_accuracy: 9.2282e-04\n",
      "Epoch 8/20\n",
      "233/233 [==============================] - 1s 5ms/step - loss: 0.0271 - accuracy: 8.9199e-04 - val_loss: 0.0268 - val_accuracy: 9.0318e-04\n",
      "Epoch 9/20\n",
      "233/233 [==============================] - 1s 5ms/step - loss: 0.0269 - accuracy: 7.9101e-04 - val_loss: 0.0263 - val_accuracy: 0.0010\n",
      "Epoch 10/20\n",
      "233/233 [==============================] - 1s 5ms/step - loss: 0.0268 - accuracy: 8.8357e-04 - val_loss: 0.0266 - val_accuracy: 9.0318e-04\n",
      "Epoch 11/20\n",
      "233/233 [==============================] - 1s 6ms/step - loss: 0.0267 - accuracy: 7.9942e-04 - val_loss: 0.0265 - val_accuracy: 8.4428e-04\n",
      "Epoch 12/20\n",
      "233/233 [==============================] - 1s 5ms/step - loss: 0.0266 - accuracy: 7.9942e-04 - val_loss: 0.0258 - val_accuracy: 9.0318e-04\n",
      "Epoch 13/20\n",
      "233/233 [==============================] - 1s 5ms/step - loss: 0.0266 - accuracy: 7.8259e-04 - val_loss: 0.0258 - val_accuracy: 8.8355e-04\n",
      "Epoch 14/20\n",
      "233/233 [==============================] - 1s 5ms/step - loss: 0.0266 - accuracy: 7.9101e-04 - val_loss: 0.0259 - val_accuracy: 8.8355e-04\n",
      "Epoch 15/20\n",
      "233/233 [==============================] - 1s 5ms/step - loss: 0.0266 - accuracy: 7.9942e-04 - val_loss: 0.0258 - val_accuracy: 8.6391e-04\n",
      "Epoch 16/20\n",
      "233/233 [==============================] - 1s 5ms/step - loss: 0.0266 - accuracy: 7.6576e-04 - val_loss: 0.0272 - val_accuracy: 8.8355e-04\n",
      "Epoch 17/20\n",
      "233/233 [==============================] - 1s 5ms/step - loss: 0.0266 - accuracy: 7.7418e-04 - val_loss: 0.0258 - val_accuracy: 8.6391e-04\n",
      "Epoch 18/20\n",
      "233/233 [==============================] - 1s 5ms/step - loss: 0.0266 - accuracy: 7.9942e-04 - val_loss: 0.0258 - val_accuracy: 8.6391e-04\n",
      "Epoch 19/20\n",
      "233/233 [==============================] - 1s 5ms/step - loss: 0.0265 - accuracy: 7.9942e-04 - val_loss: 0.0258 - val_accuracy: 8.0501e-04\n",
      "Epoch 20/20\n",
      "233/233 [==============================] - 1s 5ms/step - loss: 0.0265 - accuracy: 8.2467e-04 - val_loss: 0.0258 - val_accuracy: 8.8355e-04\n",
      "CPU times: user 31.9 s, sys: 4.99 s, total: 36.9 s\n",
      "Wall time: 41.9 s\n"
     ]
    },
    {
     "data": {
      "text/plain": [
       "<keras.callbacks.History at 0x7f6af5cb8e90>"
      ]
     },
     "execution_count": 10,
     "metadata": {},
     "output_type": "execute_result"
    }
   ],
   "source": [
    "%%time\n",
    "model_tf.compile(\n",
    "    loss=\"mse\",\n",
    "    optimizer=tf.keras.optimizers.Adam(learning_rate=0.01), #0.1, 0.01\n",
    "    metrics=['accuracy'])\n",
    "model_tf.fit(\n",
    "    x=X_train,\n",
    "    y=y_train,\n",
    "    batch_size=512,\n",
    "    epochs=20, #3, 20\n",
    "    validation_data=(X_valid, y_valid))"
   ]
  },
  {
   "cell_type": "code",
   "execution_count": 11,
   "id": "5cc20e05",
   "metadata": {
    "execution": {
     "iopub.execute_input": "2022-03-13T07:50:36.841539Z",
     "iopub.status.busy": "2022-03-13T07:50:36.840738Z",
     "iopub.status.idle": "2022-03-13T07:50:37.132029Z",
     "shell.execute_reply": "2022-03-13T07:50:37.132903Z",
     "shell.execute_reply.started": "2022-03-13T07:46:12.239739Z"
    },
    "papermill": {
     "duration": 0.488881,
     "end_time": "2022-03-13T07:50:37.133162",
     "exception": false,
     "start_time": "2022-03-13T07:50:36.644281",
     "status": "completed"
    },
    "tags": []
   },
   "outputs": [
    {
     "name": "stdout",
     "output_type": "stream",
     "text": [
      "(2340, 2)\n",
      "CPU times: user 287 ms, sys: 16.7 ms, total: 304 ms\n",
      "Wall time: 277 ms\n"
     ]
    },
    {
     "data": {
      "text/html": [
       "<div>\n",
       "<style scoped>\n",
       "    .dataframe tbody tr th:only-of-type {\n",
       "        vertical-align: middle;\n",
       "    }\n",
       "\n",
       "    .dataframe tbody tr th {\n",
       "        vertical-align: top;\n",
       "    }\n",
       "\n",
       "    .dataframe thead th {\n",
       "        text-align: right;\n",
       "    }\n",
       "</style>\n",
       "<table border=\"1\" class=\"dataframe\">\n",
       "  <thead>\n",
       "    <tr style=\"text-align: right;\">\n",
       "      <th></th>\n",
       "      <th>row_id</th>\n",
       "      <th>congestion</th>\n",
       "    </tr>\n",
       "  </thead>\n",
       "  <tbody>\n",
       "    <tr>\n",
       "      <th>0</th>\n",
       "      <td>848835</td>\n",
       "      <td>51</td>\n",
       "    </tr>\n",
       "    <tr>\n",
       "      <th>1</th>\n",
       "      <td>848836</td>\n",
       "      <td>51</td>\n",
       "    </tr>\n",
       "    <tr>\n",
       "      <th>2</th>\n",
       "      <td>848837</td>\n",
       "      <td>51</td>\n",
       "    </tr>\n",
       "    <tr>\n",
       "      <th>3</th>\n",
       "      <td>848838</td>\n",
       "      <td>47</td>\n",
       "    </tr>\n",
       "    <tr>\n",
       "      <th>4</th>\n",
       "      <td>848839</td>\n",
       "      <td>51</td>\n",
       "    </tr>\n",
       "  </tbody>\n",
       "</table>\n",
       "</div>"
      ],
      "text/plain": [
       "   row_id  congestion\n",
       "0  848835          51\n",
       "1  848836          51\n",
       "2  848837          51\n",
       "3  848838          47\n",
       "4  848839          51"
      ]
     },
     "execution_count": 11,
     "metadata": {},
     "output_type": "execute_result"
    }
   ],
   "source": [
    "%%time\n",
    "test = feature_engineering(test)\n",
    "x_test = test.drop(['row_id'], axis=1)\n",
    "pred_test = model_tf.predict(x_test)\n",
    "submission = pd.DataFrame(data={\"row_id\" : test.row_id, \"congestion\" : pred_test.reshape(-1)})\n",
    "submission['congestion'] = (submission['congestion']*100).astype(np.int8)\n",
    "submission.to_csv('submission.csv', index=False)\n",
    "print(submission.shape)\n",
    "submission.head()"
   ]
  }
 ],
 "metadata": {
  "kernelspec": {
   "display_name": "Python 3",
   "language": "python",
   "name": "python3"
  },
  "language_info": {
   "codemirror_mode": {
    "name": "ipython",
    "version": 3
   },
   "file_extension": ".py",
   "mimetype": "text/x-python",
   "name": "python",
   "nbconvert_exporter": "python",
   "pygments_lexer": "ipython3",
   "version": "3.7.12"
  },
  "papermill": {
   "default_parameters": {},
   "duration": 68.764748,
   "end_time": "2022-03-13T07:50:40.854666",
   "environment_variables": {},
   "exception": null,
   "input_path": "__notebook__.ipynb",
   "output_path": "__notebook__.ipynb",
   "parameters": {},
   "start_time": "2022-03-13T07:49:32.089918",
   "version": "2.3.3"
  }
 },
 "nbformat": 4,
 "nbformat_minor": 5
}
